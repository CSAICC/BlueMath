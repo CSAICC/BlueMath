{
 "cells": [
  {
   "cell_type": "code",
   "execution_count": 1,
   "metadata": {},
   "outputs": [],
   "source": [
    "import os\n",
    "\n",
    "output_dir = os.path.join(os.getcwd(), \"Etti_CASES\")"
   ]
  },
  {
   "cell_type": "code",
   "execution_count": 2,
   "metadata": {},
   "outputs": [],
   "source": [
    "metamodel_parameters = {\n",
    "    \"PavIni\": [101300, 10100, 1010],\n",
    "}\n",
    "fixed_parameters = {\n",
    "    \"name\": \"FlowFM\",\n",
    "    \"NetFile\": \"Santander_mesh_net.nc\",\n",
    "    # Friction\n",
    "    \"UnifFrictCoef\": 0.023,\n",
    "    \"UnifFrictCoef1D\": 0.023,\n",
    "    \"Vicouv\": 0.1,\n",
    "    \"Dicouv\": 0.1,\n",
    "    \"Vicoww\": 1e-6,\n",
    "    \"Dicoww\": 1e-6,\n",
    "    # Salt Temperature\n",
    "    \"Rhomean\": 1021,  # 1000\n",
    "    \"Salinity\": 0,\n",
    "    \"InitialSalinity\": 30,  # 0\n",
    "    \"InitialTemperature\": 17,  # 6\n",
    "    \"Temperature\": 0,\n",
    "    # Wind\n",
    "    \"Wind_eq\": 2,\n",
    "    \"CDa\": 0.00063,\n",
    "    \"CDb\": 0.00723,\n",
    "    \"CDc\": 1,  #\n",
    "    \"VCDa\": 0,\n",
    "    \"VCDb\": 100,\n",
    "    \"VCDc\": 1,  #\n",
    "    \"Rhoair\": 1.2,\n",
    "    # Time\n",
    "    \"RefDate\": \"20200711\",\n",
    "    \"DtUser\": 300,\n",
    "    \"DtMax\": 30,\n",
    "    \"DtInit\": 1,\n",
    "    \"StartDateTime\": \"202007110000\",\n",
    "    \"StopDateTime\": \"202007111700\",\n",
    "    \"ExtForceFileNew\": \"FlowFM_bnd.ext\",\n",
    "    \"ObsFile\": \"obs.xyn\",\n",
    "    \"HisInterval\": 300,\n",
    "    \"MapInterval\": 3600,  # 1200\n",
    "    # Output parameters\n",
    "    \"Wrihis_balance\": 0,\n",
    "    \"Wrihis_sourcesink\": 0,\n",
    "    \"Wrihis_structure_gen\": 1,\n",
    "    \"Wrihis_structure_dam\": 1,\n",
    "    \"Wrihis_structure_pump\": 1,\n",
    "    \"Wrihis_structure_gate\": 1,\n",
    "    \"Wrihis_structure_weir\": 1,\n",
    "    \"Wrihis_turbulence\": 1,\n",
    "    \"Wrihis_wind\": 0,\n",
    "    \"Wrihis_rain\": 0,\n",
    "    \"Wrihis_temperature\": 1,\n",
    "    \"Wrihis_heat_fluxes\": 1,\n",
    "    \"Wrihis_salinity\": 1,\n",
    "    \"Wrihis_density\": 0,\n",
    "    \"Wrihis_waterlevel_s1\": 1,\n",
    "    \"Wrihis_waterdepth\": 0,\n",
    "    \"Wrihis_velocity_vector\": 1,\n",
    "    \"Wrihis_upward_velocity_component\": 0,\n",
    "    \"Wrihis_sediment\": 0,\n",
    "    \"Wrihis_constituents\": 0,\n",
    "    \"Wrimap_waterlevel_s0\": 0,\n",
    "    \"Wrimap_waterlevel_s1\": 1,\n",
    "    \"Wrimap_velocity_component_u0\": 0,\n",
    "    \"Wrimap_velocity_component_u1\": 1,\n",
    "    \"Wrimap_velocity_vector\": 1,\n",
    "    \"Wrimap_upward_velocity_component\": 0,\n",
    "    \"Wrimap_density_rho\": 0,\n",
    "    \"Wrimap_horizontal_viscosity_viu\": 1,\n",
    "    \"Wrimap_horizontal_diffusivity_diu\": 1,\n",
    "    \"Wrimap_flow_flux_q1\": 0,\n",
    "    \"Wrimap_spiral_flow\": 1,\n",
    "    \"Wrimap_numlimdt\": 1,\n",
    "    \"Wrimap_taucurrent\": 1,\n",
    "    \"Wrimap_chezy\": 1,\n",
    "    \"Wrimap_turbulence\": 0,\n",
    "    \"Wrimap_wind\": 0,\n",
    "    \"grid_nc_file\": os.path.join(os.getcwd(), \"templates\", \"Santander_mesh_net.nc\"),\n",
    "}"
   ]
  },
  {
   "cell_type": "code",
   "execution_count": 3,
   "metadata": {},
   "outputs": [
    {
     "name": "stderr",
     "output_type": "stream",
     "text": [
      "2025-04-15 13:41:13,120 - Delft3DfmModelWrapper - WARNING - Parameter PavIni is not in the default_parameters\n"
     ]
    }
   ],
   "source": [
    "from bluemath_tk.wrappers.delft3d.delft3d_example import Delft3DfmModelWrapper\n",
    "\n",
    "\n",
    "delft3d_wrapper = Delft3DfmModelWrapper(\n",
    "    templates_dir=\"templates\",\n",
    "    metamodel_parameters=metamodel_parameters,\n",
    "    fixed_parameters=fixed_parameters,\n",
    "    output_dir=output_dir,\n",
    "    templates_name=[\"FlowFM.mdu\"],\n",
    ")\n",
    "\n",
    "# Build the input files\n",
    "delft3d_wrapper.build_cases()"
   ]
  }
 ],
 "metadata": {
  "kernelspec": {
   "display_name": "bluemath-dev",
   "language": "python",
   "name": "python3"
  },
  "language_info": {
   "codemirror_mode": {
    "name": "ipython",
    "version": 3
   },
   "file_extension": ".py",
   "mimetype": "text/x-python",
   "name": "python",
   "nbconvert_exporter": "python",
   "pygments_lexer": "ipython3",
   "version": "3.12.8"
  }
 },
 "nbformat": 4,
 "nbformat_minor": 2
}
